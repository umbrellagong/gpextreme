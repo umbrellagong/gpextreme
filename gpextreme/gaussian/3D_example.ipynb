{
 "cells": [
  {
   "cell_type": "code",
   "execution_count": null,
   "id": "269b3284",
   "metadata": {},
   "outputs": [],
   "source": [
    "import sys\n",
    "sys.path.append(\"../\")"
   ]
  },
  {
   "cell_type": "code",
   "execution_count": null,
   "id": "26ea6d63",
   "metadata": {},
   "outputs": [],
   "source": [
    "import numpy as np\n",
    "from sklearn.gaussian_process.kernels import RBF, ConstantKernel as C, WhiteKernel, Matern\n",
    "from sklearn.gaussian_process import GaussianProcessRegressor \n",
    "from core import * \n",
    "\n",
    "import matplotlib.pyplot as plt\n",
    "import plotly.graph_objects as go"
   ]
  },
  {
   "cell_type": "code",
   "execution_count": null,
   "id": "37db7488",
   "metadata": {},
   "outputs": [],
   "source": [
    "import matplotlib.colors as mcolors\n",
    "plt.rcParams.update({'font.size': 14})"
   ]
  },
  {
   "cell_type": "code",
   "execution_count": null,
   "id": "1cf24e29",
   "metadata": {},
   "outputs": [],
   "source": [
    "%load_ext autoreload\n",
    "%autoreload 2"
   ]
  },
  {
   "cell_type": "markdown",
   "id": "8312463e",
   "metadata": {},
   "source": [
    "# Load true and res"
   ]
  },
  {
   "cell_type": "code",
   "execution_count": null,
   "id": "13152878",
   "metadata": {},
   "outputs": [],
   "source": [
    "f_true_list = np.load('true_funcs/3d_RBF_4111_plot.npy', allow_pickle=True)\n",
    "res = np.load('results/t10/3d_RBF_4111_Gaussian_plot.npy', \n",
    "              allow_pickle=True)"
   ]
  },
  {
   "cell_type": "markdown",
   "id": "c93090b1",
   "metadata": {},
   "source": [
    "## Set input and grid"
   ]
  },
  {
   "cell_type": "code",
   "execution_count": null,
   "id": "4fbaff4c",
   "metadata": {},
   "outputs": [],
   "source": [
    "tau_n, l_n = 4, np.ones(3)\n",
    "w_n, sigma_n = np.zeros(3), np.eye(3)\n",
    "domain = [[-5, 5], [-5, 5], [-5, 5]]\n",
    "inputs = GaussianInputs(w_n, sigma_n, domain)\n",
    "kernel = C(tau_n, 'fixed') * RBF(l_n, 'fixed')\n",
    "sgp = GaussianProcessRegressor(kernel=kernel, random_state=0)"
   ]
  },
  {
   "cell_type": "code",
   "execution_count": null,
   "id": "4521cb8e",
   "metadata": {},
   "outputs": [],
   "source": [
    "bw = 0.1\n",
    "x_grid = np.linspace(-5,  5,  51)\n",
    "y_grid = np.linspace(-5,  5,  51)\n",
    "z_grid = np.linspace(-5,  5,  51)\n",
    "x_mesh, y_mesh, z_mesh = np.meshgrid(x_grid, y_grid, z_grid)\n",
    "grids = np.concatenate((x_mesh.reshape(-1, 1), y_mesh.reshape(-1, 1), z_mesh.reshape(-1, 1)), axis=1)\n",
    "pdf_grids = inputs.pdf(grids)"
   ]
  },
  {
   "cell_type": "markdown",
   "id": "5afc87e5",
   "metadata": {},
   "source": [
    "# Analyze one case"
   ]
  },
  {
   "cell_type": "code",
   "execution_count": null,
   "id": "cf1ba2e7",
   "metadata": {},
   "outputs": [],
   "source": [
    "function_num = 0\n",
    "plot_3d(2.6, f_true_list[function_num], sgp, \n",
    "        res[function_num][0][0][0], res[function_num][0][1][0],\n",
    "        (2.6, -3.4))"
   ]
  },
  {
   "cell_type": "markdown",
   "id": "966db3a6",
   "metadata": {},
   "source": [
    "## Plot 3D isosurface "
   ]
  },
  {
   "cell_type": "code",
   "execution_count": null,
   "id": "2696ff7b",
   "metadata": {},
   "outputs": [],
   "source": [
    "level = -6\n",
    "\n",
    "for DX in (res[function_num][0][0][0], res[function_num][0][1][0]):\n",
    "    sgp.fit(DX, f_true_list[function_num](DX))\n",
    "    fig = go.Figure(go.Isosurface(\n",
    "        x=x_mesh.flatten(),\n",
    "        y=y_mesh.flatten(),\n",
    "        z=z_mesh.flatten(),\n",
    "        value=sgp.predict(grids),\n",
    "        isomin=level,\n",
    "        isomax=level,\n",
    "        surface_count=1,\n",
    "        opacity=0.8,\n",
    "        caps=dict(x_show=True, y_show=True)\n",
    "        ))\n",
    "    fig.show()"
   ]
  }
 ],
 "metadata": {
  "kernelspec": {
   "display_name": "Python 3",
   "language": "python",
   "name": "python3"
  },
  "language_info": {
   "codemirror_mode": {
    "name": "ipython",
    "version": 3
   },
   "file_extension": ".py",
   "mimetype": "text/x-python",
   "name": "python",
   "nbconvert_exporter": "python",
   "pygments_lexer": "ipython3",
   "version": "3.9.13"
  }
 },
 "nbformat": 4,
 "nbformat_minor": 5
}
